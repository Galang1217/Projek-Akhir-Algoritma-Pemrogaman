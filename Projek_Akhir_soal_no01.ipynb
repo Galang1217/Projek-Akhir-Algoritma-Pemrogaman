{
  "nbformat": 4,
  "nbformat_minor": 0,
  "metadata": {
    "colab": {
      "provenance": [],
      "authorship_tag": "ABX9TyMRHMvb/qfmmnuUWJRDt8hT",
      "include_colab_link": true
    },
    "kernelspec": {
      "name": "python3",
      "display_name": "Python 3"
    },
    "language_info": {
      "name": "python"
    }
  },
  "cells": [
    {
      "cell_type": "markdown",
      "metadata": {
        "id": "view-in-github",
        "colab_type": "text"
      },
      "source": [
        "<a href=\"https://colab.research.google.com/github/Galang1217/Projek-Akhir-Algoritma-Pemrogaman/blob/main/Projek_Akhir_soal_no01.ipynb\" target=\"_parent\"><img src=\"https://colab.research.google.com/assets/colab-badge.svg\" alt=\"Open In Colab\"/></a>"
      ]
    },
    {
      "cell_type": "code",
      "execution_count": 8,
      "metadata": {
        "colab": {
          "base_uri": "https://localhost:8080/"
        },
        "id": "0dQxgbBVt9gb",
        "outputId": "74db3985-49ea-41f4-a004-5afa098128f4"
      },
      "outputs": [
        {
          "output_type": "stream",
          "name": "stdout",
          "text": [
            "Program Manajemen Akun Mahasiswa :\n",
            "\n",
            "1. Tambah Mahasiswa Baru\n",
            "2. Update Nilai Mahasiswa\n",
            "3. Tampilkan Semua Mahasiswa\n",
            "4. Cari Mahasiswa Berdasarkan NIM\n",
            "5. Keluar\n",
            "\n",
            "Pilih menu (1-5) : 5\n",
            "Program Selesai.\n"
          ]
        }
      ],
      "source": [
        "class Mahasiswa:\n",
        "    def __init__(self, nama: str, nim: str, nilai_akhir: float = 0.0):\n",
        "        self.nama = nama\n",
        "        self.nim = nim\n",
        "        self.nilai_akhir = nilai_akhir\n",
        "\n",
        "    def tambah_nilai(self, nilai: float):\n",
        "        if nilai < 0:\n",
        "            raise ValueError(\"Nilai tidak boleh negatif.\")\n",
        "        self.nilai_akhir += nilai\n",
        "\n",
        "    def info_mahasiswa(self):\n",
        "        return f\"Nama: {self.nama}, NIM: {self.nim}, Nilai Akhir: {self.nilai_akhir:.2f}\"\n",
        "\n",
        "\n",
        "daftar_mahasiswa = []\n",
        "dict_mahasiswa = {}\n",
        "\n",
        "\n",
        "def tampilkan_semua_mahasiswa():\n",
        "    if not daftar_mahasiswa:\n",
        "        print(\"Tidak ada data mahasiswa.\")\n",
        "    else:\n",
        "        print(\" Daftar Mahasiswa \")\n",
        "        for mahasiswa in daftar_mahasiswa:\n",
        "            print(mahasiswa.info_mahasiswa())\n",
        "\n",
        "\n",
        "def cari_mahasiswa(nim: str):\n",
        "    try:\n",
        "        mahasiswa = dict_mahasiswa[nim]\n",
        "        print(\" Informasi Mahasiswa \")\n",
        "        print(mahasiswa.info_mahasiswa())\n",
        "    except KeyError:\n",
        "        print(f\"Error: Mahasiswa dengan NIM {nim} tidak ditemukan.\")\n",
        "\n",
        "\n",
        "def menu():\n",
        "    while True:\n",
        "        print(\"Program Manajemen Akun Mahasiswa :\\n\")\n",
        "        print(\"1. Tambah Mahasiswa Baru\")\n",
        "        print(\"2. Update Nilai Mahasiswa\")\n",
        "        print(\"3. Tampilkan Semua Mahasiswa\")\n",
        "        print(\"4. Cari Mahasiswa Berdasarkan NIM\")\n",
        "        print(\"5. Keluar\\n\")\n",
        "        pilihan = input(\"Pilih menu (1-5) : \")\n",
        "\n",
        "        if pilihan == \"1\":\n",
        "            try:\n",
        "                nama = input(\"Masukkan nama mahasiswa : \")\n",
        "                nim = input(\"Masukkan NIM mahasiswa : \")\n",
        "                if nim in dict_mahasiswa:\n",
        "                    print(\"Error: Mahasiswa dengan NIM ini sudah terdaftar.\")\n",
        "                    continue\n",
        "                nilai_awal = float(input(\"Masukkan nilai awal mahasiswa : \"))\n",
        "                mahasiswa = Mahasiswa(nama, nim, nilai_awal)\n",
        "                daftar_mahasiswa.append(mahasiswa)\n",
        "                dict_mahasiswa[nim] = mahasiswa\n",
        "                print(\"Mahasiswa berhasil ditambahkan.\")\n",
        "            except ValueError:\n",
        "                print(\"Error: Nilai harus berupa angka.\")\n",
        "\n",
        "        elif pilihan == \"2\":\n",
        "            try:\n",
        "                nim = input(\"Masukkan NIM mahasiswa : \")\n",
        "                mahasiswa = dict_mahasiswa[nim]\n",
        "                nilai_tambah = float(input(\"Masukkan nilai yang ingin ditambahkan : \"))\n",
        "                mahasiswa.tambah_nilai(nilai_tambah)\n",
        "                print(\"Nilai berhasil diperbarui.\")\n",
        "            except KeyError:\n",
        "                print(f\"Error: Mahasiswa dengan NIM {nim} tidak ditemukan.\")\n",
        "            except ValueError as e:\n",
        "                print(f\"Error: {e}\")\n",
        "\n",
        "        elif pilihan == \"3\":\n",
        "            tampilkan_semua_mahasiswa()\n",
        "\n",
        "        elif pilihan == \"4\":\n",
        "            nim = input(\"Masukkan NIM mahasiswa : \")\n",
        "            cari_mahasiswa(nim)\n",
        "\n",
        "        elif pilihan == \"5\":\n",
        "            print(\"Program Selesai.\")\n",
        "            break\n",
        "\n",
        "        else:\n",
        "            print(\"Pilihan tidak valid. Silakan coba lagi.\")\n",
        "\n",
        "\n",
        "if __name__ == \"__main__\":\n",
        "    menu()"
      ]
    }
  ]
}